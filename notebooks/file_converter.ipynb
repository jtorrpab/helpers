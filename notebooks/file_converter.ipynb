{
 "cells": [
  {
   "cell_type": "markdown",
   "metadata": {},
   "source": [
    "# Convertidor de Archivos"
   ]
  },
  {
   "cell_type": "markdown",
   "metadata": {},
   "source": [
    "#### Este notebook contiene una serie de scripts en Python para convertir archivos entre diferentes formatos.\n",
    "**Scripts realizados**\n",
    "- parquet - json\n",
    "- csv - json"
   ]
  },
  {
   "cell_type": "markdown",
   "metadata": {},
   "source": [
    "#### Dependencias:\n",
    "**Pruebas con Python 3.9**"
   ]
  },
  {
   "cell_type": "code",
   "execution_count": 1,
   "metadata": {},
   "outputs": [],
   "source": [
    "import os\n",
    "import time \n",
    "import pandas as pd \n",
    "from decouple import config"
   ]
  },
  {
   "cell_type": "markdown",
   "metadata": {},
   "source": [
    "#### Variables globales:"
   ]
  },
  {
   "cell_type": "code",
   "execution_count": 2,
   "metadata": {},
   "outputs": [],
   "source": [
    "INPUT_FILE = config('INPUT_FILE')\n",
    "OUTPUT_FILE = config('OUTPUT_FILE')"
   ]
  },
  {
   "cell_type": "markdown",
   "metadata": {},
   "source": [
    "#### Convertir parquet a json (Redshift)"
   ]
  },
  {
   "cell_type": "code",
   "execution_count": 9,
   "metadata": {},
   "outputs": [
    {
     "name": "stdout",
     "output_type": "stream",
     "text": [
      "File FRC_2024_04 converted successfully\n",
      "\n",
      "Tiempo de ejecución 0.02 segundos\n"
     ]
    }
   ],
   "source": [
    "tstart = time.time()\n",
    "\n",
    "file_name = ''\n",
    "file_path = os.path.join(INPUT_FILE, f'{file_name}.parquet')\n",
    "output_path = os.path.join(OUTPUT_FILE, f'{file_name}_parquet.json')\n",
    "\n",
    "try:\n",
    "    df_file = pd.read_parquet(file_path,\n",
    "                                   engine= 'pyarrow')  \n",
    "    \n",
    "    #cols = ''\n",
    "    cols= None \n",
    "\n",
    "    if cols is not None:\n",
    "        for col in cols.split('|'):\n",
    "            timestamp_ms = df_file[col].astype('int64') * 1000000\n",
    "            df_file[col] = pd.to_datetime(timestamp_ms)\n",
    "\n",
    "    json_file = df_file.to_json(orient='records',\n",
    "                                date_format='iso')\n",
    "\n",
    "    if os.path.exists(output_path):\n",
    "        os.remove(output_path)\n",
    "\n",
    "    with open (output_path, mode='w', encoding='utf-8') as file:\n",
    "        file.write(json_file)\n",
    "        print(f\"File {file_name} converted successfully\")\n",
    "\n",
    "except Exception as ex:\n",
    "    print(ex)\n",
    "\n",
    "print('\\nTiempo de ejecución {:.2f} segundos'.format(time.time()-tstart))"
   ]
  },
  {
   "cell_type": "markdown",
   "metadata": {},
   "source": [
    "#### Convertir csv a json"
   ]
  },
  {
   "cell_type": "code",
   "execution_count": 10,
   "metadata": {},
   "outputs": [
    {
     "name": "stdout",
     "output_type": "stream",
     "text": [
      "File FRC_2024_04 converted successfully\n",
      "\n",
      "Tiempo de ejecución 0.02 segundos\n"
     ]
    }
   ],
   "source": [
    "tstart = time.time()\n",
    "\n",
    "file_name = 'FRC_2024_04'\n",
    "file_path = os.path.join(INPUT_FILE, f'{file_name}.csv')\n",
    "output_path = os.path.join(OUTPUT_FILE, f'{file_name}_csv.json')\n",
    "\n",
    "try:\n",
    "    df_file = pd.read_csv(file_path,\n",
    "                          sep=';',\n",
    "                          encoding='utf-8')  \n",
    "\n",
    "    json_file = df_file.to_json(orient='records')\n",
    "\n",
    "    if os.path.exists(output_path):\n",
    "        os.remove(output_path)\n",
    "\n",
    "    with open (output_path, mode='w', encoding='utf-8') as file:\n",
    "        file.write(json_file)\n",
    "        print(f\"File {file_name} converted successfully\")\n",
    "\n",
    "except Exception as ex:\n",
    "    print(ex)\n",
    "\n",
    "print('\\nTiempo de ejecución {:.2f} segundos'.format(time.time()-tstart))"
   ]
  }
 ],
 "metadata": {
  "kernelspec": {
   "display_name": "env",
   "language": "python",
   "name": "python3"
  },
  "language_info": {
   "codemirror_mode": {
    "name": "ipython",
    "version": 3
   },
   "file_extension": ".py",
   "mimetype": "text/x-python",
   "name": "python",
   "nbconvert_exporter": "python",
   "pygments_lexer": "ipython3",
   "version": "3.9.10"
  }
 },
 "nbformat": 4,
 "nbformat_minor": 2
}
