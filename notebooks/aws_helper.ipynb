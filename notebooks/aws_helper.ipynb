{
 "cells": [
  {
   "cell_type": "markdown",
   "metadata": {},
   "source": [
    "# SDK de AWS"
   ]
  },
  {
   "cell_type": "markdown",
   "metadata": {},
   "source": [
    "#### Este notebook contiene una serie de scripts en Python que te permiten interactuar con los servicios de AWS.\n",
    "**Dependencias**\n",
    "- pip install boto3"
   ]
  },
  {
   "cell_type": "code",
   "execution_count": 8,
   "metadata": {},
   "outputs": [],
   "source": [
    "import os\n",
    "import time\n",
    "import boto3\n",
    "import pandas as pd\n",
    "from decouple import config\n",
    "from typing import Optional\n",
    "from dataclasses import dataclass"
   ]
  },
  {
   "cell_type": "markdown",
   "metadata": {},
   "source": [
    "#### Variables gobales"
   ]
  },
  {
   "cell_type": "code",
   "execution_count": 2,
   "metadata": {},
   "outputs": [],
   "source": [
    "@dataclass\n",
    "class Parameters():\n",
    "    ENV:str\n",
    "    BUCKET_RAW: Optional[str] = None\n",
    "    AWS_PROFILE: Optional[str] = None\n",
    "    AWS_IAM_ROLE: Optional[str] = None\n",
    "    AWS_ACCESS_KEY_ID: Optional[str] = None\n",
    "    AWS_SECRET_ACCESS_KEY: Optional[str] = None\n",
    "    BUCKET_ANALYTICS: Optional[str] = None\n",
    "    INPUT_FILE:str = config('INPUT_FILE')\n",
    "    OUTPUT_FILE:str = config('OUTPUT_FILE')\n",
    "    AWS_REGION: str = config('AWS_SDL_REGION')\n",
    "\n",
    "    def __post_init__(self):\n",
    "        for key, value in self.__dict__.items():\n",
    "            if value:\n",
    "                continue\n",
    "\n",
    "            setattr(self, key, config(f'{self.ENV}_{key}'))                \n",
    "\n",
    "PARAMS = Parameters(ENV='DEV')"
   ]
  },
  {
   "cell_type": "markdown",
   "metadata": {},
   "source": [
    "#### Conexión con AWS"
   ]
  },
  {
   "cell_type": "code",
   "execution_count": 3,
   "metadata": {},
   "outputs": [],
   "source": [
    "def get_aws_session(params: Parameters):\n",
    "    sts_client = boto3.client('sts', \n",
    "                              aws_access_key_id = params.AWS_ACCESS_KEY_ID,\n",
    "                              aws_secret_access_key= params.AWS_SECRET_ACCESS_KEY)\n",
    "    \n",
    "    assumed_role_response = sts_client.assume_role(RoleArn = params.AWS_IAM_ROLE,\n",
    "                                          DurationSeconds = 3600,\n",
    "                                          RoleSessionName = 'Excecution')\n",
    "\n",
    "    credentials = assumed_role_response['Credentials']\n",
    "\n",
    "    session = boto3.Session(aws_access_key_id = credentials['AccessKeyId'],\n",
    "                            aws_secret_access_key = credentials['SecretAccessKey'],\n",
    "                            aws_session_token = credentials['SessionToken'])\n",
    "\n",
    "    return session \n",
    "\n",
    "aws_session = get_aws_session(PARAMS)"
   ]
  },
  {
   "cell_type": "markdown",
   "metadata": {},
   "source": [
    "#### Descargar archivo desde S3"
   ]
  },
  {
   "cell_type": "code",
   "execution_count": 7,
   "metadata": {},
   "outputs": [
    {
     "name": "stdout",
     "output_type": "stream",
     "text": [
      "File informe_cartera.csv downloaded successfully in: C:\\Projects\\helpers\\output_files\\informe_cartera.csv\n",
      "\n",
      "Tiempo de ejecución 2.39 segundos\n"
     ]
    }
   ],
   "source": [
    "tstart = time.time()\n",
    "\n",
    "s3 = aws_session.client('s3', region_name= PARAMS.AWS_REGION)\n",
    "\n",
    "KEYS = [\n",
    "        'CO/E&CM/SFTP/CARTERA/YEAR=2023/MONTH=08/informe_cartera.csv'\n",
    "    ]\n",
    "\n",
    "for key in KEYS:\n",
    "    try:\n",
    "        file_name = os.path.basename(key)\n",
    "        file_path = os.path.join(PARAMS.OUTPUT_FILE, file_name)\n",
    "\n",
    "        s3.download_file(PARAMS.BUCKET_RAW, key, file_path)\n",
    "\n",
    "        print(f'File {file_name} downloaded successfully in: {file_path}')\n",
    "\n",
    "    except Exception as ex:\n",
    "        print(ex)\n",
    "\n",
    "print('\\nTiempo de ejecución {:.2f} segundos'.format(time.time()-tstart))"
   ]
  }
 ],
 "metadata": {
  "kernelspec": {
   "display_name": "env",
   "language": "python",
   "name": "python3"
  },
  "language_info": {
   "codemirror_mode": {
    "name": "ipython",
    "version": 3
   },
   "file_extension": ".py",
   "mimetype": "text/x-python",
   "name": "python",
   "nbconvert_exporter": "python",
   "pygments_lexer": "ipython3",
   "version": "3.9.10"
  }
 },
 "nbformat": 4,
 "nbformat_minor": 2
}
